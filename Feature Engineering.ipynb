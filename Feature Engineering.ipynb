{
 "cells": [
  {
   "cell_type": "markdown",
   "id": "dc2336e9-fc0b-4a48-b2b8-4f0ad15a405d",
   "metadata": {},
   "source": [
    "**Case on Process of Feature Engineering**"
   ]
  },
  {
   "cell_type": "markdown",
   "id": "6ae20e28-70b2-47bc-a8b7-cd3f9fe33acd",
   "metadata": {},
   "source": [
    "Detailed banking-specific use case covering each process of feature engineering—Feature Creation, Transformation, Feature Extraction, and Feature Selection—using a complex dataset."
   ]
  },
  {
   "cell_type": "markdown",
   "id": "23745c18-d4a1-4f92-b7ae-a0b24ea431c1",
   "metadata": {},
   "source": [
    "##**Use Case: Customer Credit Risk Prediction**##\n",
    "\n",
    "Objective: Predict the likelihood of a customer defaulting on a credit card payment based on various customer features and transaction data.\n",
    "\n",
    "Dataset Description:\n",
    "- Customer Data: Includes demographic and financial information about the customer.\n",
    "- Transaction Data: Includes details about each transaction made by the customer."
   ]
  },
  {
   "cell_type": "markdown",
   "id": "e0a8e408-20fe-43e2-8ab8-e0ac7e5603a6",
   "metadata": {},
   "source": [
    "**1. Feature Creation**\n",
    "\n",
    "Scenario: You want to create features that might better capture a customer’s financial behavior for predicting credit risk.\n",
    "\n",
    "Original Features:\n",
    "- `Total_Income`\n",
    "- `Total_Debt`\n",
    "- `Number_of_Transactions`\n",
    "- `Monthly_Income`\n",
    "- `Account_Age`\n",
    "\n",
    "Feature Creation Step:\n",
    "  - Feature: `Debt_to_Income_Ratio`\n",
    "  - Description: The ratio of total debt to total income, which might indicate financial strain.\n",
    "  - Formula: `Debt_to_Income_Ratio = Total_Debt / Total_Income`\n",
    "\n",
    "  - Feature: `Average_Transaction_Value`\n",
    "  - Description: Average value of transactions over a period.\n",
    "  - Formula: `Average_Transaction_Value = Total_Transaction_Value / Number_of_Transactions`"
   ]
  },
  {
   "cell_type": "code",
   "execution_count": 1,
   "id": "cb51c793-f151-4fab-a36a-36a7bc4c20c1",
   "metadata": {},
   "outputs": [
    {
     "name": "stdout",
     "output_type": "stream",
     "text": [
      "   Total_Income  Total_Debt  Number_of_Transactions  Total_Transaction_Value  \\\n",
      "0         50000       10000                      50                   100000   \n",
      "1         60000       20000                      60                   120000   \n",
      "2         70000       30000                      70                   140000   \n",
      "\n",
      "   Account_Age  Debt_to_Income_Ratio  Average_Transaction_Value  \n",
      "0            5              0.200000                     2000.0  \n",
      "1           10              0.333333                     2000.0  \n",
      "2           15              0.428571                     2000.0  \n"
     ]
    }
   ],
   "source": [
    "# 1. Feature Creation - Implementation:\n",
    "import pandas as pd\n",
    "\n",
    "# Sample DataFrame\n",
    "df = pd.DataFrame({\n",
    "    'Total_Income': [50000, 60000, 70000],\n",
    "    'Total_Debt': [10000, 20000, 30000],\n",
    "    'Number_of_Transactions': [50, 60, 70],\n",
    "    'Total_Transaction_Value': [100000, 120000, 140000],\n",
    "    'Account_Age': [5, 10, 15]\n",
    "})\n",
    "\n",
    "# Feature Creation\n",
    "df['Debt_to_Income_Ratio'] = df['Total_Debt'] / df['Total_Income']\n",
    "df['Average_Transaction_Value'] = df['Total_Transaction_Value'] / df['Number_of_Transactions']\n",
    "print(df)"
   ]
  },
  {
   "cell_type": "markdown",
   "id": "883e10cd-da55-48b7-a2b6-469289d10e17",
   "metadata": {},
   "source": [
    "**2. Feature Transformation**\n",
    "\n",
    "Scenario: Transform features to normalize their distributions and improve model performance.\n",
    "\n",
    "Original Features:\n",
    "- `Monthly_Income`\n",
    "- `Total_Debt`\n",
    "- `Total_Transaction_Value`\n",
    "\n",
    "    - Transformation: Apply Min-Max Scaling to features to normalize them to a range [0, 1].\n",
    "    - Formula: `Normalized_Feature = (Feature - min(Feature)) / (max(Feature) - min(Feature))`"
   ]
  },
  {
   "cell_type": "code",
   "execution_count": 2,
   "id": "5a770d19-142f-4dc7-b762-05f4699d41dd",
   "metadata": {},
   "outputs": [
    {
     "name": "stdout",
     "output_type": "stream",
     "text": [
      "   Monthly_Income  Total_Debt  Total_Transaction_Value\n",
      "0             0.0         0.0                      0.0\n",
      "1             0.5         0.5                      0.5\n",
      "2             1.0         1.0                      1.0\n"
     ]
    }
   ],
   "source": [
    "# 2. Feature Transformation - Implementation:\n",
    "from sklearn.preprocessing import MinMaxScaler\n",
    "import pandas as pd\n",
    "\n",
    "# Sample DataFrame\n",
    "df = pd.DataFrame({\n",
    "    'Monthly_Income': [4000, 5000, 6000],\n",
    "    'Total_Debt': [10000, 20000, 30000],\n",
    "    'Total_Transaction_Value': [100000, 120000, 140000]\n",
    "})\n",
    "\n",
    "# Feature Transformation\n",
    "scaler = MinMaxScaler()\n",
    "scaled_features = scaler.fit_transform(df)\n",
    "df_scaled = pd.DataFrame(scaled_features, columns=df.columns)\n",
    "print(df_scaled)"
   ]
  },
  {
   "cell_type": "markdown",
   "id": "115b16aa-785c-4544-9b04-bcf43574f131",
   "metadata": {},
   "source": [
    "**3. Feature Extraction**\n",
    "\n",
    "Scenario: Extract meaningful features from transaction data for analyzing customer behavior.\n",
    "\n",
    "Original Data: Transaction details including `Transaction_Description`, `Transaction_Amount`, and `Transaction_Date`.\n",
    "\n",
    "    - Feature Extraction: Extract features such as `Transaction_Frequency` and `Transaction_Category`.\n",
    "    - Transaction Frequency: Number of transactions per month.\n",
    "    - Transaction Category: Categories of transactions (e.g., groceries, utilities, dining) extracted using NLP."
   ]
  },
  {
   "cell_type": "code",
   "execution_count": 3,
   "id": "ed43741c-4334-4741-9f34-ebbf886bd679",
   "metadata": {},
   "outputs": [
    {
     "name": "stdout",
     "output_type": "stream",
     "text": [
      "   bill  electricity  grocery  meal  payment  purchase  rent  restaurant  \\\n",
      "0     0            0        1     0        0         1     0           0   \n",
      "1     1            1        0     0        1         0     0           0   \n",
      "2     0            0        0     1        0         0     0           1   \n",
      "3     0            0        1     0        0         1     0           0   \n",
      "4     0            0        0     0        1         0     1           0   \n",
      "\n",
      "   store  \n",
      "0      1  \n",
      "1      0  \n",
      "2      0  \n",
      "3      1  \n",
      "4      0  \n"
     ]
    }
   ],
   "source": [
    "# 3. Feature Extraction - Implementation:\n",
    "from sklearn.feature_extraction.text import CountVectorizer\n",
    "import pandas as pd\n",
    "\n",
    "# Sample DataFrame with transaction descriptions\n",
    "transactions = [\n",
    "    \"Grocery store purchase\", \"Electricity bill payment\",\n",
    "    \"Restaurant meal\", \"Grocery store purchase\", \"Rent payment\"\n",
    "]\n",
    "\n",
    "# Feature Extraction for Transaction Categories\n",
    "vectorizer = CountVectorizer()\n",
    "X = vectorizer.fit_transform(transactions)\n",
    "feature_names = vectorizer.get_feature_names_out()\n",
    "df_features = pd.DataFrame(X.toarray(), columns=feature_names)\n",
    "print(df_features)"
   ]
  },
  {
   "cell_type": "markdown",
   "id": "71498cfc-c654-444a-8f4e-13dcd57015d8",
   "metadata": {},
   "source": [
    "**4. Feature Selection:**\n",
    "\n",
    "Scenario: Use selected features to build a model that predicts credit default risk.\n",
    "\n",
    "Original Features:\n",
    "- `Debt_to_Income_Ratio`\n",
    "- `Average_Transaction_Value`\n",
    "- `Normalized_Monthly_Income`\n",
    "- `Normalized_Total_Debt`\n",
    "- `Transaction_Category_1`\n",
    "- `Transaction_Category_2`\n",
    "- `Transaction_Category_3`\n",
    "\n",
    "Feature Selection Technique: Use Recursive Feature Elimination (RFE) with a Logistic Regression model to select the most relevant features for predicting credit default."
   ]
  },
  {
   "cell_type": "code",
   "execution_count": 4,
   "id": "eb315c0b-0911-43c9-a5d9-8c1ebf72c5b3",
   "metadata": {},
   "outputs": [
    {
     "name": "stdout",
     "output_type": "stream",
     "text": [
      "Selected Features: ['Average_Transaction_Value', 'Normalized_Total_Debt', 'Transaction_Category_1', 'Transaction_Category_2']\n"
     ]
    }
   ],
   "source": [
    "# Feature Selection - Implementation:\n",
    "from sklearn.feature_selection import RFE\n",
    "from sklearn.linear_model import LogisticRegression\n",
    "import pandas as pd\n",
    "\n",
    "# Sample DataFrame\n",
    "df = pd.DataFrame({\n",
    "    'Debt_to_Income_Ratio': [0.2, 0.3, 0.4],\n",
    "    'Average_Transaction_Value': [200, 300, 400],\n",
    "    'Normalized_Monthly_Income': [0.4, 0.5, 0.6],\n",
    "    'Normalized_Total_Debt': [0.3, 0.5, 0.7],\n",
    "    'Transaction_Category_1': [1, 0, 1],\n",
    "    'Transaction_Category_2': [0, 1, 0],\n",
    "    'Transaction_Category_3': [0, 0, 1],\n",
    "    'Credit_Default': [0, 1, 1]\n",
    "})\n",
    "\n",
    "# Features and target\n",
    "X = df.drop('Credit_Default', axis=1)\n",
    "y = df['Credit_Default']\n",
    "\n",
    "# Feature Selection with RFE\n",
    "model = LogisticRegression()\n",
    "rfe = RFE(model, n_features_to_select=4)\n",
    "fit = rfe.fit(X, y)\n",
    "print(\"Selected Features: %s\" % list(X.columns[fit.support_]))"
   ]
  },
  {
   "cell_type": "markdown",
   "id": "0f85dd89-9d3d-44b7-8ec2-9da00f93bce6",
   "metadata": {},
   "source": [
    "**Summary:**\n",
    "\n",
    "- Feature Creation: Generated `Debt_to_Income_Ratio` and `Average_Transaction_Value` to better capture financial behavior.\n",
    "- Feature Transformation: Normalized features like `Monthly_Income` and `Total_Debt` using Min-Max Scaling.\n",
    "- Feature Extraction: Extracted `Transaction_Category` features from transaction descriptions using NLP.\n",
    "- Feature Selection: Used RFE with Logistic Regression to select the most relevant features for predicting credit risk.\n",
    "\n",
    "These examples illustrate how feature engineering processes can be applied to datasets to improve predictive modeling and gain actionable insights."
   ]
  },
  {
   "cell_type": "code",
   "execution_count": null,
   "id": "669469a4-76b9-40ed-97f4-0c6cc8a2edad",
   "metadata": {},
   "outputs": [],
   "source": []
  }
 ],
 "metadata": {
  "kernelspec": {
   "display_name": "Python 3 (ipykernel)",
   "language": "python",
   "name": "python3"
  },
  "language_info": {
   "codemirror_mode": {
    "name": "ipython",
    "version": 3
   },
   "file_extension": ".py",
   "mimetype": "text/x-python",
   "name": "python",
   "nbconvert_exporter": "python",
   "pygments_lexer": "ipython3",
   "version": "3.11.7"
  }
 },
 "nbformat": 4,
 "nbformat_minor": 5
}
